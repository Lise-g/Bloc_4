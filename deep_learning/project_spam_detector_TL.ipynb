{
 "cells": [
  {
   "cell_type": "code",
   "execution_count": 1,
   "metadata": {},
   "outputs": [
    {
     "name": "stdout",
     "output_type": "stream",
     "text": [
      "Defaulting to user installation because normal site-packages is not writeable\n",
      "Requirement already satisfied: tensorflow_hub in /home/lise/.local/lib/python3.10/site-packages (0.12.0)\n",
      "Requirement already satisfied: protobuf>=3.8.0 in /usr/lib/python3/dist-packages (from tensorflow_hub) (3.12.4)\n",
      "Requirement already satisfied: numpy>=1.12.0 in /home/lise/.local/lib/python3.10/site-packages (from tensorflow_hub) (1.23.4)\n"
     ]
    }
   ],
   "source": [
    "!pip install tensorflow_hub"
   ]
  },
  {
   "cell_type": "code",
   "execution_count": 2,
   "metadata": {},
   "outputs": [
    {
     "name": "stdout",
     "output_type": "stream",
     "text": [
      "Defaulting to user installation because normal site-packages is not writeable\n",
      "Requirement already satisfied: tensorflow-text in /home/lise/.local/lib/python3.10/site-packages (2.11.0)\n",
      "Requirement already satisfied: tensorflow<2.12,>=2.11.0 in /home/lise/.local/lib/python3.10/site-packages (from tensorflow-text) (2.11.0)\n",
      "Requirement already satisfied: tensorflow-hub>=0.8.0 in /home/lise/.local/lib/python3.10/site-packages (from tensorflow-text) (0.12.0)\n",
      "Requirement already satisfied: flatbuffers>=2.0 in /home/lise/.local/lib/python3.10/site-packages (from tensorflow<2.12,>=2.11.0->tensorflow-text) (22.10.26)\n",
      "Requirement already satisfied: typing-extensions>=3.6.6 in /home/lise/.local/lib/python3.10/site-packages (from tensorflow<2.12,>=2.11.0->tensorflow-text) (4.4.0)\n",
      "Requirement already satisfied: google-pasta>=0.1.1 in /home/lise/.local/lib/python3.10/site-packages (from tensorflow<2.12,>=2.11.0->tensorflow-text) (0.2.0)\n",
      "Requirement already satisfied: setuptools in /home/lise/.local/lib/python3.10/site-packages (from tensorflow<2.12,>=2.11.0->tensorflow-text) (66.1.1)\n",
      "Requirement already satisfied: packaging in /home/lise/.local/lib/python3.10/site-packages (from tensorflow<2.12,>=2.11.0->tensorflow-text) (21.3)\n",
      "Requirement already satisfied: termcolor>=1.1.0 in /home/lise/.local/lib/python3.10/site-packages (from tensorflow<2.12,>=2.11.0->tensorflow-text) (2.0.1)\n",
      "Requirement already satisfied: tensorflow-io-gcs-filesystem>=0.23.1 in /home/lise/.local/lib/python3.10/site-packages (from tensorflow<2.12,>=2.11.0->tensorflow-text) (0.27.0)\n",
      "Requirement already satisfied: wrapt>=1.11.0 in /home/lise/.local/lib/python3.10/site-packages (from tensorflow<2.12,>=2.11.0->tensorflow-text) (1.14.1)\n",
      "Requirement already satisfied: tensorboard<2.12,>=2.11 in /home/lise/.local/lib/python3.10/site-packages (from tensorflow<2.12,>=2.11.0->tensorflow-text) (2.11.2)\n",
      "Requirement already satisfied: keras<2.12,>=2.11.0 in /home/lise/.local/lib/python3.10/site-packages (from tensorflow<2.12,>=2.11.0->tensorflow-text) (2.11.0)\n",
      "Requirement already satisfied: protobuf<3.20,>=3.9.2 in /usr/lib/python3/dist-packages (from tensorflow<2.12,>=2.11.0->tensorflow-text) (3.12.4)\n",
      "Requirement already satisfied: libclang>=13.0.0 in /home/lise/.local/lib/python3.10/site-packages (from tensorflow<2.12,>=2.11.0->tensorflow-text) (14.0.6)\n",
      "Requirement already satisfied: absl-py>=1.0.0 in /home/lise/.local/lib/python3.10/site-packages (from tensorflow<2.12,>=2.11.0->tensorflow-text) (1.3.0)\n",
      "Requirement already satisfied: grpcio<2.0,>=1.24.3 in /home/lise/.local/lib/python3.10/site-packages (from tensorflow<2.12,>=2.11.0->tensorflow-text) (1.50.0)\n",
      "Requirement already satisfied: opt-einsum>=2.3.2 in /home/lise/.local/lib/python3.10/site-packages (from tensorflow<2.12,>=2.11.0->tensorflow-text) (3.3.0)\n",
      "Requirement already satisfied: gast<=0.4.0,>=0.2.1 in /home/lise/.local/lib/python3.10/site-packages (from tensorflow<2.12,>=2.11.0->tensorflow-text) (0.4.0)\n",
      "Requirement already satisfied: h5py>=2.9.0 in /home/lise/.local/lib/python3.10/site-packages (from tensorflow<2.12,>=2.11.0->tensorflow-text) (3.7.0)\n",
      "Requirement already satisfied: astunparse>=1.6.0 in /home/lise/.local/lib/python3.10/site-packages (from tensorflow<2.12,>=2.11.0->tensorflow-text) (1.6.3)\n",
      "Requirement already satisfied: numpy>=1.20 in /home/lise/.local/lib/python3.10/site-packages (from tensorflow<2.12,>=2.11.0->tensorflow-text) (1.23.4)\n",
      "Requirement already satisfied: tensorflow-estimator<2.12,>=2.11.0 in /home/lise/.local/lib/python3.10/site-packages (from tensorflow<2.12,>=2.11.0->tensorflow-text) (2.11.0)\n",
      "Requirement already satisfied: six>=1.12.0 in /home/lise/.local/lib/python3.10/site-packages (from tensorflow<2.12,>=2.11.0->tensorflow-text) (1.16.0)\n",
      "Requirement already satisfied: wheel<1.0,>=0.23.0 in /home/lise/.local/lib/python3.10/site-packages (from astunparse>=1.6.0->tensorflow<2.12,>=2.11.0->tensorflow-text) (0.38.4)\n",
      "Requirement already satisfied: werkzeug>=1.0.1 in /home/lise/.local/lib/python3.10/site-packages (from tensorboard<2.12,>=2.11->tensorflow<2.12,>=2.11.0->tensorflow-text) (2.2.2)\n",
      "Requirement already satisfied: markdown>=2.6.8 in /home/lise/.local/lib/python3.10/site-packages (from tensorboard<2.12,>=2.11->tensorflow<2.12,>=2.11.0->tensorflow-text) (3.4.1)\n",
      "Requirement already satisfied: tensorboard-plugin-wit>=1.6.0 in /home/lise/.local/lib/python3.10/site-packages (from tensorboard<2.12,>=2.11->tensorflow<2.12,>=2.11.0->tensorflow-text) (1.8.1)\n",
      "Requirement already satisfied: google-auth<3,>=1.6.3 in /home/lise/.local/lib/python3.10/site-packages (from tensorboard<2.12,>=2.11->tensorflow<2.12,>=2.11.0->tensorflow-text) (2.13.0)\n",
      "Requirement already satisfied: tensorboard-data-server<0.7.0,>=0.6.0 in /home/lise/.local/lib/python3.10/site-packages (from tensorboard<2.12,>=2.11->tensorflow<2.12,>=2.11.0->tensorflow-text) (0.6.1)\n",
      "Requirement already satisfied: requests<3,>=2.21.0 in /home/lise/.local/lib/python3.10/site-packages (from tensorboard<2.12,>=2.11->tensorflow<2.12,>=2.11.0->tensorflow-text) (2.28.1)\n",
      "Requirement already satisfied: google-auth-oauthlib<0.5,>=0.4.1 in /home/lise/.local/lib/python3.10/site-packages (from tensorboard<2.12,>=2.11->tensorflow<2.12,>=2.11.0->tensorflow-text) (0.4.6)\n",
      "Requirement already satisfied: pyparsing!=3.0.5,>=2.0.2 in /home/lise/.local/lib/python3.10/site-packages (from packaging->tensorflow<2.12,>=2.11.0->tensorflow-text) (3.0.9)\n",
      "Requirement already satisfied: pyasn1-modules>=0.2.1 in /home/lise/.local/lib/python3.10/site-packages (from google-auth<3,>=1.6.3->tensorboard<2.12,>=2.11->tensorflow<2.12,>=2.11.0->tensorflow-text) (0.2.8)\n",
      "Requirement already satisfied: rsa<5,>=3.1.4 in /home/lise/.local/lib/python3.10/site-packages (from google-auth<3,>=1.6.3->tensorboard<2.12,>=2.11->tensorflow<2.12,>=2.11.0->tensorflow-text) (4.9)\n",
      "Requirement already satisfied: cachetools<6.0,>=2.0.0 in /home/lise/.local/lib/python3.10/site-packages (from google-auth<3,>=1.6.3->tensorboard<2.12,>=2.11->tensorflow<2.12,>=2.11.0->tensorflow-text) (5.2.0)\n",
      "Requirement already satisfied: requests-oauthlib>=0.7.0 in /home/lise/.local/lib/python3.10/site-packages (from google-auth-oauthlib<0.5,>=0.4.1->tensorboard<2.12,>=2.11->tensorflow<2.12,>=2.11.0->tensorflow-text) (1.3.1)\n",
      "Requirement already satisfied: certifi>=2017.4.17 in /usr/lib/python3/dist-packages (from requests<3,>=2.21.0->tensorboard<2.12,>=2.11->tensorflow<2.12,>=2.11.0->tensorflow-text) (2020.6.20)\n",
      "Requirement already satisfied: idna<4,>=2.5 in /usr/lib/python3/dist-packages (from requests<3,>=2.21.0->tensorboard<2.12,>=2.11->tensorflow<2.12,>=2.11.0->tensorflow-text) (3.3)\n",
      "Requirement already satisfied: charset-normalizer<3,>=2 in /home/lise/.local/lib/python3.10/site-packages (from requests<3,>=2.21.0->tensorboard<2.12,>=2.11->tensorflow<2.12,>=2.11.0->tensorflow-text) (2.1.1)\n",
      "Requirement already satisfied: urllib3<1.27,>=1.21.1 in /usr/lib/python3/dist-packages (from requests<3,>=2.21.0->tensorboard<2.12,>=2.11->tensorflow<2.12,>=2.11.0->tensorflow-text) (1.26.5)\n",
      "Requirement already satisfied: MarkupSafe>=2.1.1 in /home/lise/.local/lib/python3.10/site-packages (from werkzeug>=1.0.1->tensorboard<2.12,>=2.11->tensorflow<2.12,>=2.11.0->tensorflow-text) (2.1.1)\n",
      "Requirement already satisfied: pyasn1<0.5.0,>=0.4.6 in /home/lise/.local/lib/python3.10/site-packages (from pyasn1-modules>=0.2.1->google-auth<3,>=1.6.3->tensorboard<2.12,>=2.11->tensorflow<2.12,>=2.11.0->tensorflow-text) (0.4.8)\n",
      "Requirement already satisfied: oauthlib>=3.0.0 in /usr/lib/python3/dist-packages (from requests-oauthlib>=0.7.0->google-auth-oauthlib<0.5,>=0.4.1->tensorboard<2.12,>=2.11->tensorflow<2.12,>=2.11.0->tensorflow-text) (3.2.0)\n"
     ]
    }
   ],
   "source": [
    "!pip install tensorflow-text"
   ]
  },
  {
   "cell_type": "code",
   "execution_count": 30,
   "metadata": {},
   "outputs": [],
   "source": [
    "import tensorflow as tf\n",
    "import pandas as pd \n",
    "import numpy as np\n",
    "from sklearn.model_selection import train_test_split\n",
    "from sklearn.metrics import ConfusionMatrixDisplay, classification_report\n",
    "from keras.layers import Embedding, SimpleRNN, Dense, GRU, LSTM\n",
    "import tensorflow_hub as hub\n",
    "import tensorflow_text as text\n",
    "import json\n",
    "import warnings\n",
    "warnings.filterwarnings('ignore')\n",
    "\n",
    "import plotly.graph_objects as go\n",
    "import matplotlib.pyplot as plt\n",
    "\n",
    "import plotly.io as pio\n",
    "pio.renderers.default = \"svg\""
   ]
  },
  {
   "cell_type": "code",
   "execution_count": 4,
   "metadata": {},
   "outputs": [
    {
     "data": {
      "text/html": [
       "<div>\n",
       "<style scoped>\n",
       "    .dataframe tbody tr th:only-of-type {\n",
       "        vertical-align: middle;\n",
       "    }\n",
       "\n",
       "    .dataframe tbody tr th {\n",
       "        vertical-align: top;\n",
       "    }\n",
       "\n",
       "    .dataframe thead th {\n",
       "        text-align: right;\n",
       "    }\n",
       "</style>\n",
       "<table border=\"1\" class=\"dataframe\">\n",
       "  <thead>\n",
       "    <tr style=\"text-align: right;\">\n",
       "      <th></th>\n",
       "      <th>Unnamed: 0</th>\n",
       "      <th>target</th>\n",
       "      <th>SMS</th>\n",
       "      <th>target_num</th>\n",
       "      <th>SMS_clean</th>\n",
       "      <th>SMS_encoded</th>\n",
       "      <th>len_SMS</th>\n",
       "    </tr>\n",
       "  </thead>\n",
       "  <tbody>\n",
       "    <tr>\n",
       "      <th>0</th>\n",
       "      <td>0</td>\n",
       "      <td>ham</td>\n",
       "      <td>Go until jurong point, crazy.. Available only ...</td>\n",
       "      <td>0</td>\n",
       "      <td>jurong point crazy available bugis n great wor...</td>\n",
       "      <td>[3621, 233, 448, 463, 943, 35, 52, 205, 944, 7...</td>\n",
       "      <td>14</td>\n",
       "    </tr>\n",
       "    <tr>\n",
       "      <th>1</th>\n",
       "      <td>1</td>\n",
       "      <td>ham</td>\n",
       "      <td>Ok lar... Joking wif u oni...</td>\n",
       "      <td>0</td>\n",
       "      <td>ok lar joke wif u oni</td>\n",
       "      <td>[10, 194, 464, 289, 1, 1460]</td>\n",
       "      <td>6</td>\n",
       "    </tr>\n",
       "    <tr>\n",
       "      <th>2</th>\n",
       "      <td>2</td>\n",
       "      <td>spam</td>\n",
       "      <td>Free entry in 2 a wkly comp to win FA Cup fina...</td>\n",
       "      <td>1</td>\n",
       "      <td>free entry 2 wkly comp win fa cup final tkts 2...</td>\n",
       "      <td>[12, 298, 3, 535, 667, 33, 1461, 856, 424, 146...</td>\n",
       "      <td>22</td>\n",
       "    </tr>\n",
       "    <tr>\n",
       "      <th>3</th>\n",
       "      <td>3</td>\n",
       "      <td>ham</td>\n",
       "      <td>U dun say so early hor... U c already then say...</td>\n",
       "      <td>0</td>\n",
       "      <td>u dun early hor u c</td>\n",
       "      <td>[1, 125, 150, 2362, 1, 85]</td>\n",
       "      <td>6</td>\n",
       "    </tr>\n",
       "    <tr>\n",
       "      <th>4</th>\n",
       "      <td>4</td>\n",
       "      <td>ham</td>\n",
       "      <td>Nah I don't think he goes to usf, he lives aro...</td>\n",
       "      <td>0</td>\n",
       "      <td>nah think usf live</td>\n",
       "      <td>[712, 22, 668, 129]</td>\n",
       "      <td>4</td>\n",
       "    </tr>\n",
       "  </tbody>\n",
       "</table>\n",
       "</div>"
      ],
      "text/plain": [
       "   Unnamed: 0 target                                                SMS  \\\n",
       "0           0    ham  Go until jurong point, crazy.. Available only ...   \n",
       "1           1    ham                      Ok lar... Joking wif u oni...   \n",
       "2           2   spam  Free entry in 2 a wkly comp to win FA Cup fina...   \n",
       "3           3    ham  U dun say so early hor... U c already then say...   \n",
       "4           4    ham  Nah I don't think he goes to usf, he lives aro...   \n",
       "\n",
       "   target_num                                          SMS_clean  \\\n",
       "0           0  jurong point crazy available bugis n great wor...   \n",
       "1           0                              ok lar joke wif u oni   \n",
       "2           1  free entry 2 wkly comp win fa cup final tkts 2...   \n",
       "3           0                                u dun early hor u c   \n",
       "4           0                                 nah think usf live   \n",
       "\n",
       "                                         SMS_encoded  len_SMS  \n",
       "0  [3621, 233, 448, 463, 943, 35, 52, 205, 944, 7...       14  \n",
       "1                       [10, 194, 464, 289, 1, 1460]        6  \n",
       "2  [12, 298, 3, 535, 667, 33, 1461, 856, 424, 146...       22  \n",
       "3                         [1, 125, 150, 2362, 1, 85]        6  \n",
       "4                                [712, 22, 668, 129]        4  "
      ]
     },
     "execution_count": 4,
     "metadata": {},
     "output_type": "execute_result"
    }
   ],
   "source": [
    "# Import dataset already preprocessed\n",
    "dataset = pd.read_csv(\"src/spam_clean.csv\", encoding=\"ISO-8859-1\")\n",
    "dataset.head()"
   ]
  },
  {
   "cell_type": "code",
   "execution_count": 5,
   "metadata": {},
   "outputs": [
    {
     "data": {
      "text/html": [
       "<div>\n",
       "<style scoped>\n",
       "    .dataframe tbody tr th:only-of-type {\n",
       "        vertical-align: middle;\n",
       "    }\n",
       "\n",
       "    .dataframe tbody tr th {\n",
       "        vertical-align: top;\n",
       "    }\n",
       "\n",
       "    .dataframe thead th {\n",
       "        text-align: right;\n",
       "    }\n",
       "</style>\n",
       "<table border=\"1\" class=\"dataframe\">\n",
       "  <thead>\n",
       "    <tr style=\"text-align: right;\">\n",
       "      <th></th>\n",
       "      <th>Unnamed: 0</th>\n",
       "      <th>target</th>\n",
       "      <th>SMS</th>\n",
       "      <th>target_num</th>\n",
       "      <th>SMS_clean</th>\n",
       "      <th>SMS_encoded</th>\n",
       "      <th>len_SMS</th>\n",
       "    </tr>\n",
       "  </thead>\n",
       "  <tbody>\n",
       "    <tr>\n",
       "      <th>count</th>\n",
       "      <td>5555.000000</td>\n",
       "      <td>5555</td>\n",
       "      <td>5555</td>\n",
       "      <td>5555.000000</td>\n",
       "      <td>5555</td>\n",
       "      <td>5555</td>\n",
       "      <td>5555.000000</td>\n",
       "    </tr>\n",
       "    <tr>\n",
       "      <th>unique</th>\n",
       "      <td>NaN</td>\n",
       "      <td>2</td>\n",
       "      <td>5152</td>\n",
       "      <td>NaN</td>\n",
       "      <td>5086</td>\n",
       "      <td>5085</td>\n",
       "      <td>NaN</td>\n",
       "    </tr>\n",
       "    <tr>\n",
       "      <th>top</th>\n",
       "      <td>NaN</td>\n",
       "      <td>ham</td>\n",
       "      <td>Sorry, I'll call later</td>\n",
       "      <td>NaN</td>\n",
       "      <td>sorry ill later</td>\n",
       "      <td>[31, 17, 40]</td>\n",
       "      <td>NaN</td>\n",
       "    </tr>\n",
       "    <tr>\n",
       "      <th>freq</th>\n",
       "      <td>NaN</td>\n",
       "      <td>4808</td>\n",
       "      <td>30</td>\n",
       "      <td>NaN</td>\n",
       "      <td>30</td>\n",
       "      <td>30</td>\n",
       "      <td>NaN</td>\n",
       "    </tr>\n",
       "    <tr>\n",
       "      <th>mean</th>\n",
       "      <td>2785.340234</td>\n",
       "      <td>NaN</td>\n",
       "      <td>NaN</td>\n",
       "      <td>0.134473</td>\n",
       "      <td>NaN</td>\n",
       "      <td>NaN</td>\n",
       "      <td>8.246625</td>\n",
       "    </tr>\n",
       "    <tr>\n",
       "      <th>std</th>\n",
       "      <td>1608.728782</td>\n",
       "      <td>NaN</td>\n",
       "      <td>NaN</td>\n",
       "      <td>0.341191</td>\n",
       "      <td>NaN</td>\n",
       "      <td>NaN</td>\n",
       "      <td>6.399526</td>\n",
       "    </tr>\n",
       "    <tr>\n",
       "      <th>min</th>\n",
       "      <td>0.000000</td>\n",
       "      <td>NaN</td>\n",
       "      <td>NaN</td>\n",
       "      <td>0.000000</td>\n",
       "      <td>NaN</td>\n",
       "      <td>NaN</td>\n",
       "      <td>1.000000</td>\n",
       "    </tr>\n",
       "    <tr>\n",
       "      <th>25%</th>\n",
       "      <td>1393.500000</td>\n",
       "      <td>NaN</td>\n",
       "      <td>NaN</td>\n",
       "      <td>0.000000</td>\n",
       "      <td>NaN</td>\n",
       "      <td>NaN</td>\n",
       "      <td>4.000000</td>\n",
       "    </tr>\n",
       "    <tr>\n",
       "      <th>50%</th>\n",
       "      <td>2784.000000</td>\n",
       "      <td>NaN</td>\n",
       "      <td>NaN</td>\n",
       "      <td>0.000000</td>\n",
       "      <td>NaN</td>\n",
       "      <td>NaN</td>\n",
       "      <td>6.000000</td>\n",
       "    </tr>\n",
       "    <tr>\n",
       "      <th>75%</th>\n",
       "      <td>4177.500000</td>\n",
       "      <td>NaN</td>\n",
       "      <td>NaN</td>\n",
       "      <td>0.000000</td>\n",
       "      <td>NaN</td>\n",
       "      <td>NaN</td>\n",
       "      <td>12.000000</td>\n",
       "    </tr>\n",
       "    <tr>\n",
       "      <th>max</th>\n",
       "      <td>5571.000000</td>\n",
       "      <td>NaN</td>\n",
       "      <td>NaN</td>\n",
       "      <td>1.000000</td>\n",
       "      <td>NaN</td>\n",
       "      <td>NaN</td>\n",
       "      <td>72.000000</td>\n",
       "    </tr>\n",
       "  </tbody>\n",
       "</table>\n",
       "</div>"
      ],
      "text/plain": [
       "         Unnamed: 0 target                     SMS   target_num  \\\n",
       "count   5555.000000   5555                    5555  5555.000000   \n",
       "unique          NaN      2                    5152          NaN   \n",
       "top             NaN    ham  Sorry, I'll call later          NaN   \n",
       "freq            NaN   4808                      30          NaN   \n",
       "mean    2785.340234    NaN                     NaN     0.134473   \n",
       "std     1608.728782    NaN                     NaN     0.341191   \n",
       "min        0.000000    NaN                     NaN     0.000000   \n",
       "25%     1393.500000    NaN                     NaN     0.000000   \n",
       "50%     2784.000000    NaN                     NaN     0.000000   \n",
       "75%     4177.500000    NaN                     NaN     0.000000   \n",
       "max     5571.000000    NaN                     NaN     1.000000   \n",
       "\n",
       "              SMS_clean   SMS_encoded      len_SMS  \n",
       "count              5555          5555  5555.000000  \n",
       "unique             5086          5085          NaN  \n",
       "top     sorry ill later  [31, 17, 40]          NaN  \n",
       "freq                 30            30          NaN  \n",
       "mean                NaN           NaN     8.246625  \n",
       "std                 NaN           NaN     6.399526  \n",
       "min                 NaN           NaN     1.000000  \n",
       "25%                 NaN           NaN     4.000000  \n",
       "50%                 NaN           NaN     6.000000  \n",
       "75%                 NaN           NaN    12.000000  \n",
       "max                 NaN           NaN    72.000000  "
      ]
     },
     "execution_count": 5,
     "metadata": {},
     "output_type": "execute_result"
    }
   ],
   "source": [
    "dataset.describe(include='all')"
   ]
  },
  {
   "attachments": {},
   "cell_type": "markdown",
   "metadata": {},
   "source": [
    "# Transfert Learning"
   ]
  },
  {
   "attachments": {},
   "cell_type": "markdown",
   "metadata": {},
   "source": [
    "I chose to run a BERT (Bidirectional Encoder Representations from Transformers) model to classify the SMS.  \n",
    "This is a pre-trained model that offers vector-space representations of words using the Transformer architecture. It was trained in a non-supervised manner on large Wikipedia corpus of texts.  \n",
    "The advantage is that some versions of the model were fully developped with TensorFlow.  \n",
    "The model has a lot of variants, depending on 3 parameters : L the number of layers, H the hidden size, and A the number of attention heads.  \n",
    "I chose the smallest version of Small BERT : 'bert_en_uncased_L-2_H-128_A-2'. Indeed, with a very small dataset, we probably don't need to run huge models. This model is a small version of BERT with fewer and smaller Transformer blocks.  \n",
    "  \n",
    "Before running the BERT embedding model, we need to preprocess the text with a matching model that is also provided by TensorFlow Hub. I used the 'bert_en_uncased_preprocess/3' model.  \n",
    "\n",
    "Here are all the links that helped me building the model :  \n",
    "https://blog.tensorflow.org/2020/12/making-bert-easier-with-preprocessing-models-from-tensorflow-hub.html  \n",
    "https://tfhub.dev/google/collections/bert/1  \n",
    "https://www.tensorflow.org/text/tutorials/classify_text_with_bert?hl=en  \n",
    "https://tfhub.dev/tensorflow/small_bert/bert_en_uncased_L-2_H-128_A-2/2"
   ]
  },
  {
   "cell_type": "code",
   "execution_count": 6,
   "metadata": {},
   "outputs": [],
   "source": [
    "X_train, X_test, y_train, y_test = train_test_split(dataset['SMS_clean'], dataset['target_num'], test_size=0.3, random_state=42, stratify = dataset['target_num'])"
   ]
  },
  {
   "cell_type": "code",
   "execution_count": 7,
   "metadata": {},
   "outputs": [
    {
     "data": {
      "text/plain": [
       "1038                       today college able atten class\n",
       "763        wish family merry x mas happy new year advance\n",
       "5066    amazing   rearrange letter meaning dormitory  ...\n",
       "3889                                     right brah later\n",
       "1136    messagesome text miss sendername miss number m...\n",
       "4561    congratulation ur award 500 cd voucher 125gift...\n",
       "2250                                check head drop stuff\n",
       "5478    cool shall tip home drop later let town tonigh...\n",
       "750       important customer service announcement premier\n",
       "970                              yup thk e shop close lor\n",
       "1861    mmmm   fuck   fair   know weakness   grin push...\n",
       "4978                               look addie monday suck\n",
       "4700    hey happen u switch ur cell d day good u care ...\n",
       "4467                                  noit ful song lyric\n",
       "3394    hey das cool iknow 2 wellda peril studentfinan...\n",
       "Name: SMS_clean, dtype: object"
      ]
     },
     "execution_count": 7,
     "metadata": {},
     "output_type": "execute_result"
    }
   ],
   "source": [
    "X_train[0:15]"
   ]
  },
  {
   "cell_type": "code",
   "execution_count": 8,
   "metadata": {},
   "outputs": [
    {
     "name": "stderr",
     "output_type": "stream",
     "text": [
      "2023-01-31 09:40:38.470401: W tensorflow/compiler/xla/stream_executor/platform/default/dso_loader.cc:64] Could not load dynamic library 'libcuda.so.1'; dlerror: libcuda.so.1: cannot open shared object file: No such file or directory\n",
      "2023-01-31 09:40:38.470432: W tensorflow/compiler/xla/stream_executor/cuda/cuda_driver.cc:265] failed call to cuInit: UNKNOWN ERROR (303)\n",
      "2023-01-31 09:40:38.470459: I tensorflow/compiler/xla/stream_executor/cuda/cuda_diagnostics.cc:156] kernel driver does not appear to be running on this host (lise-PC): /proc/driver/nvidia/version does not exist\n",
      "2023-01-31 09:40:38.470791: I tensorflow/core/platform/cpu_feature_guard.cc:193] This TensorFlow binary is optimized with oneAPI Deep Neural Network Library (oneDNN) to use the following CPU instructions in performance-critical operations:  AVX2 AVX_VNNI FMA\n",
      "To enable them in other operations, rebuild TensorFlow with the appropriate compiler flags.\n"
     ]
    }
   ],
   "source": [
    "# Creating the tensor datasets\n",
    "train_ds = tf.data.Dataset.from_tensor_slices((X_train, y_train))\n",
    "test_ds = tf.data.Dataset.from_tensor_slices((X_test, y_test))"
   ]
  },
  {
   "cell_type": "code",
   "execution_count": 9,
   "metadata": {},
   "outputs": [],
   "source": [
    "# Creating the batches\n",
    "train_ds = train_ds.shuffle(len(train_ds)).batch(64)\n",
    "test_ds = test_ds.shuffle(len(test_ds)).batch(64)"
   ]
  },
  {
   "cell_type": "code",
   "execution_count": 10,
   "metadata": {},
   "outputs": [],
   "source": [
    "# Include the epoch in the file name (uses `str.format`)\n",
    "checkpoint_path_TL = \"trainingTL/cp-{epoch:04d}.ckpt\" # the path where checkpoint files will be stored\n",
    "\n",
    "# Create a callback that saves the model's weights every epochs\n",
    "cp_callback = tf.keras.callbacks.ModelCheckpoint(\n",
    "    filepath=checkpoint_path_TL, \n",
    "    verbose=1,\n",
    "    save_weights_only=True,\n",
    "    save_freq=1*len(train_ds))"
   ]
  },
  {
   "cell_type": "code",
   "execution_count": 11,
   "metadata": {},
   "outputs": [
    {
     "name": "stdout",
     "output_type": "stream",
     "text": [
      "WARNING:tensorflow:Please fix your imports. Module tensorflow.python.training.tracking.data_structures has been moved to tensorflow.python.trackable.data_structures. The old module will be deleted in version 2.11.\n",
      "WARNING:tensorflow:From /home/lise/.local/lib/python3.10/site-packages/tensorflow/python/autograph/pyct/static_analysis/liveness.py:83: Analyzer.lamba_check (from tensorflow.python.autograph.pyct.static_analysis.liveness) is deprecated and will be removed after 2023-09-23.\n",
      "Instructions for updating:\n",
      "Lambda fuctions will be no more assumed to be used in the statement where they are used, or at least in the same block. https://github.com/tensorflow/tensorflow/issues/56089\n"
     ]
    },
    {
     "name": "stderr",
     "output_type": "stream",
     "text": [
      "WARNING:tensorflow:From /home/lise/.local/lib/python3.10/site-packages/tensorflow/python/autograph/pyct/static_analysis/liveness.py:83: Analyzer.lamba_check (from tensorflow.python.autograph.pyct.static_analysis.liveness) is deprecated and will be removed after 2023-09-23.\n",
      "Instructions for updating:\n",
      "Lambda fuctions will be no more assumed to be used in the statement where they are used, or at least in the same block. https://github.com/tensorflow/tensorflow/issues/56089\n"
     ]
    }
   ],
   "source": [
    "# Building the model\n",
    "\n",
    "text_input = tf.keras.layers.Input(shape=(), dtype=tf.string)\n",
    "preprocessor = hub.KerasLayer(\"https://tfhub.dev/tensorflow/bert_en_uncased_preprocess/3\", name='preprocessing') # matching preprocessing model for BERT\n",
    "encoder_inputs = preprocessor(text_input)\n",
    "#encoder = hub.KerasLayer(\"https://tfhub.dev/tensorflow/small_bert/bert_en_uncased_L-8_H-256_A-4/2\", trainable=True, name = 'BERT_encoder')\n",
    "encoder = hub.KerasLayer(\"https://tfhub.dev/tensorflow/small_bert/bert_en_uncased_L-2_H-128_A-2/2\", trainable=True, name = 'BERT_encoder')\n",
    "outputs = encoder(encoder_inputs)\n",
    "pooled_output = outputs[\"pooled_output\"]      # [batch_size, 128].\n",
    "sequence_output = outputs[\"sequence_output\"]  # [batch_size, seq_length, 128].\n",
    "\n",
    "# Neural network layers\n",
    "net = tf.keras.layers.Dropout(0.1)(pooled_output)\n",
    "net = tf.keras.layers.BatchNormalization()(net)     # I added this layer otherwise the model does not train \n",
    "net = Dense(1, activation='sigmoid', name='classifier')(net)    # output layer with one neuron and sigmoid activation function because we need 0 or 1 as a result\n",
    "\n",
    "# Use inputs and outputs to construct a final model\n",
    "model_TL = tf.keras.Model(text_input, net)\n",
    "\n",
    "# Save the weights using the `checkpoint_path` format\n",
    "model_TL.save_weights(checkpoint_path_TL.format(epoch=0))\n"
   ]
  },
  {
   "cell_type": "code",
   "execution_count": 12,
   "metadata": {},
   "outputs": [
    {
     "name": "stdout",
     "output_type": "stream",
     "text": [
      "Model: \"model\"\n",
      "__________________________________________________________________________________________________\n",
      " Layer (type)                   Output Shape         Param #     Connected to                     \n",
      "==================================================================================================\n",
      " input_1 (InputLayer)           [(None,)]            0           []                               \n",
      "                                                                                                  \n",
      " preprocessing (KerasLayer)     {'input_word_ids':   0           ['input_1[0][0]']                \n",
      "                                (None, 128),                                                      \n",
      "                                 'input_mask': (Non                                               \n",
      "                                e, 128),                                                          \n",
      "                                 'input_type_ids':                                                \n",
      "                                (None, 128)}                                                      \n",
      "                                                                                                  \n",
      " BERT_encoder (KerasLayer)      {'pooled_output': (  4385921     ['preprocessing[0][0]',          \n",
      "                                None, 128),                       'preprocessing[0][1]',          \n",
      "                                 'encoder_outputs':               'preprocessing[0][2]']          \n",
      "                                 [(None, 128, 128),                                               \n",
      "                                 (None, 128, 128)],                                               \n",
      "                                 'sequence_output':                                               \n",
      "                                 (None, 128, 128),                                                \n",
      "                                 'default': (None,                                                \n",
      "                                128)}                                                             \n",
      "                                                                                                  \n",
      " dropout (Dropout)              (None, 128)          0           ['BERT_encoder[0][3]']           \n",
      "                                                                                                  \n",
      " batch_normalization (BatchNorm  (None, 128)         512         ['dropout[0][0]']                \n",
      " alization)                                                                                       \n",
      "                                                                                                  \n",
      " classifier (Dense)             (None, 1)            129         ['batch_normalization[0][0]']    \n",
      "                                                                                                  \n",
      "==================================================================================================\n",
      "Total params: 4,386,562\n",
      "Trainable params: 4,386,305\n",
      "Non-trainable params: 257\n",
      "__________________________________________________________________________________________________\n"
     ]
    }
   ],
   "source": [
    "model_TL.summary()"
   ]
  },
  {
   "attachments": {},
   "cell_type": "markdown",
   "metadata": {},
   "source": [
    "We can notice that the number of parameters to train (4 386 562) is huge compared to the 5 555 rows of the dataset."
   ]
  },
  {
   "cell_type": "code",
   "execution_count": 13,
   "metadata": {},
   "outputs": [],
   "source": [
    "model_TL.compile(optimizer='adam',\n",
    "              loss=tf.keras.losses.BinaryCrossentropy(from_logits=True),\n",
    "              metrics=['binary_accuracy'])"
   ]
  },
  {
   "cell_type": "code",
   "execution_count": 14,
   "metadata": {},
   "outputs": [
    {
     "name": "stdout",
     "output_type": "stream",
     "text": [
      "Epoch 1/20\n",
      "60/61 [============================>.] - ETA: 0s - loss: 0.2071 - binary_accuracy: 0.9404\n",
      "Epoch 1: saving model to trainingTL/cp-0001.ckpt\n",
      "61/61 [==============================] - 42s 649ms/step - loss: 0.2054 - binary_accuracy: 0.9408 - val_loss: 0.1288 - val_binary_accuracy: 0.9754\n",
      "Epoch 2/20\n",
      "60/61 [============================>.] - ETA: 0s - loss: 0.0845 - binary_accuracy: 0.9854\n",
      "Epoch 2: saving model to trainingTL/cp-0002.ckpt\n",
      "61/61 [==============================] - 36s 596ms/step - loss: 0.0846 - binary_accuracy: 0.9853 - val_loss: 0.0965 - val_binary_accuracy: 0.9826\n",
      "Epoch 3/20\n",
      "60/61 [============================>.] - ETA: 0s - loss: 0.0472 - binary_accuracy: 0.9911\n",
      "Epoch 3: saving model to trainingTL/cp-0003.ckpt\n",
      "61/61 [==============================] - 36s 596ms/step - loss: 0.0466 - binary_accuracy: 0.9913 - val_loss: 0.0958 - val_binary_accuracy: 0.9850\n",
      "Epoch 4/20\n",
      "60/61 [============================>.] - ETA: 0s - loss: 0.0193 - binary_accuracy: 0.9969\n",
      "Epoch 4: saving model to trainingTL/cp-0004.ckpt\n",
      "61/61 [==============================] - 36s 595ms/step - loss: 0.0191 - binary_accuracy: 0.9969 - val_loss: 0.1168 - val_binary_accuracy: 0.9856\n",
      "Epoch 5/20\n",
      "60/61 [============================>.] - ETA: 0s - loss: 0.0413 - binary_accuracy: 0.9906\n",
      "Epoch 5: saving model to trainingTL/cp-0005.ckpt\n",
      "61/61 [==============================] - 36s 595ms/step - loss: 0.0415 - binary_accuracy: 0.9907 - val_loss: 0.0919 - val_binary_accuracy: 0.9826\n",
      "Epoch 6/20\n",
      "60/61 [============================>.] - ETA: 0s - loss: 0.0309 - binary_accuracy: 0.9927\n",
      "Epoch 6: saving model to trainingTL/cp-0006.ckpt\n",
      "61/61 [==============================] - 36s 587ms/step - loss: 0.0315 - binary_accuracy: 0.9925 - val_loss: 0.0811 - val_binary_accuracy: 0.9850\n",
      "Epoch 7/20\n",
      "60/61 [============================>.] - ETA: 0s - loss: 0.0234 - binary_accuracy: 0.9935\n",
      "Epoch 7: saving model to trainingTL/cp-0007.ckpt\n",
      "61/61 [==============================] - 36s 591ms/step - loss: 0.0239 - binary_accuracy: 0.9933 - val_loss: 0.0584 - val_binary_accuracy: 0.9904\n",
      "Epoch 8/20\n",
      "60/61 [============================>.] - ETA: 0s - loss: 0.0270 - binary_accuracy: 0.9982\n",
      "Epoch 8: saving model to trainingTL/cp-0008.ckpt\n",
      "61/61 [==============================] - 36s 586ms/step - loss: 0.0267 - binary_accuracy: 0.9982 - val_loss: 0.1594 - val_binary_accuracy: 0.9670\n",
      "Epoch 9/20\n",
      "60/61 [============================>.] - ETA: 0s - loss: 0.0172 - binary_accuracy: 0.9956\n",
      "Epoch 9: saving model to trainingTL/cp-0009.ckpt\n",
      "61/61 [==============================] - 36s 587ms/step - loss: 0.0170 - binary_accuracy: 0.9956 - val_loss: 0.1240 - val_binary_accuracy: 0.9850\n",
      "Epoch 10/20\n",
      "60/61 [============================>.] - ETA: 0s - loss: 0.0620 - binary_accuracy: 0.9919\n",
      "Epoch 10: saving model to trainingTL/cp-0010.ckpt\n",
      "61/61 [==============================] - 33s 534ms/step - loss: 0.0612 - binary_accuracy: 0.9920 - val_loss: 0.1739 - val_binary_accuracy: 0.9784\n",
      "Epoch 11/20\n",
      "60/61 [============================>.] - ETA: 0s - loss: 0.0504 - binary_accuracy: 0.9878\n",
      "Epoch 11: saving model to trainingTL/cp-0011.ckpt\n",
      "61/61 [==============================] - 28s 456ms/step - loss: 0.0498 - binary_accuracy: 0.9879 - val_loss: 0.0666 - val_binary_accuracy: 0.9844\n",
      "Epoch 12/20\n",
      "60/61 [============================>.] - ETA: 0s - loss: 0.0421 - binary_accuracy: 0.9930\n",
      "Epoch 12: saving model to trainingTL/cp-0012.ckpt\n",
      "61/61 [==============================] - 28s 457ms/step - loss: 0.0416 - binary_accuracy: 0.9931 - val_loss: 0.0662 - val_binary_accuracy: 0.9838\n",
      "Epoch 13/20\n",
      "60/61 [============================>.] - ETA: 0s - loss: 0.0530 - binary_accuracy: 0.9883\n",
      "Epoch 13: saving model to trainingTL/cp-0013.ckpt\n",
      "61/61 [==============================] - 27s 451ms/step - loss: 0.0525 - binary_accuracy: 0.9884 - val_loss: 0.0854 - val_binary_accuracy: 0.9862\n",
      "Epoch 14/20\n",
      "60/61 [============================>.] - ETA: 0s - loss: 0.0395 - binary_accuracy: 0.9914\n",
      "Epoch 14: saving model to trainingTL/cp-0014.ckpt\n",
      "61/61 [==============================] - 28s 453ms/step - loss: 0.0393 - binary_accuracy: 0.9913 - val_loss: 0.1216 - val_binary_accuracy: 0.9844\n",
      "Epoch 15/20\n",
      "60/61 [============================>.] - ETA: 0s - loss: 0.0318 - binary_accuracy: 0.9940\n",
      "Epoch 15: saving model to trainingTL/cp-0015.ckpt\n",
      "61/61 [==============================] - 28s 452ms/step - loss: 0.0315 - binary_accuracy: 0.9941 - val_loss: 0.1118 - val_binary_accuracy: 0.9832\n",
      "Epoch 16/20\n",
      "60/61 [============================>.] - ETA: 0s - loss: 0.0131 - binary_accuracy: 0.9977\n",
      "Epoch 16: saving model to trainingTL/cp-0016.ckpt\n",
      "61/61 [==============================] - 28s 452ms/step - loss: 0.0129 - binary_accuracy: 0.9977 - val_loss: 0.1168 - val_binary_accuracy: 0.9844\n",
      "Epoch 17/20\n",
      "60/61 [============================>.] - ETA: 0s - loss: 0.0050 - binary_accuracy: 0.9990\n",
      "Epoch 17: saving model to trainingTL/cp-0017.ckpt\n",
      "61/61 [==============================] - 33s 546ms/step - loss: 0.0049 - binary_accuracy: 0.9990 - val_loss: 0.1192 - val_binary_accuracy: 0.9856\n",
      "Epoch 18/20\n",
      "60/61 [============================>.] - ETA: 0s - loss: 0.0187 - binary_accuracy: 0.9956\n",
      "Epoch 18: saving model to trainingTL/cp-0018.ckpt\n",
      "61/61 [==============================] - 37s 600ms/step - loss: 0.0185 - binary_accuracy: 0.9956 - val_loss: 0.2257 - val_binary_accuracy: 0.9826\n",
      "Epoch 19/20\n",
      "60/61 [============================>.] - ETA: 0s - loss: 0.0177 - binary_accuracy: 0.9964\n",
      "Epoch 19: saving model to trainingTL/cp-0019.ckpt\n",
      "61/61 [==============================] - 37s 603ms/step - loss: 0.0194 - binary_accuracy: 0.9959 - val_loss: 0.1145 - val_binary_accuracy: 0.9820\n",
      "Epoch 20/20\n",
      "60/61 [============================>.] - ETA: 0s - loss: 0.0093 - binary_accuracy: 0.9974\n",
      "Epoch 20: saving model to trainingTL/cp-0020.ckpt\n",
      "61/61 [==============================] - 40s 653ms/step - loss: 0.0092 - binary_accuracy: 0.9974 - val_loss: 0.1059 - val_binary_accuracy: 0.9838\n"
     ]
    },
    {
     "data": {
      "text/plain": [
       "<keras.callbacks.History at 0x7f77af6f6740>"
      ]
     },
     "execution_count": 14,
     "metadata": {},
     "output_type": "execute_result"
    }
   ],
   "source": [
    "model_TL.fit(train_ds,\n",
    "          epochs=20, \n",
    "          validation_data=test_ds,\n",
    "          callbacks=[cp_callback]\n",
    "          )"
   ]
  },
  {
   "cell_type": "code",
   "execution_count": 15,
   "metadata": {},
   "outputs": [],
   "source": [
    "# model_TL.save(\"content/model_smallBERT_2-128-2.h5\")"
   ]
  },
  {
   "cell_type": "code",
   "execution_count": 16,
   "metadata": {},
   "outputs": [],
   "source": [
    "# json.dump(model_TL.history.history, open(\"content/smallBERT_2-128-2_history.json\", 'w'))"
   ]
  },
  {
   "attachments": {},
   "cell_type": "markdown",
   "metadata": {},
   "source": [
    "# Compare results with the GRU model"
   ]
  },
  {
   "cell_type": "code",
   "execution_count": 17,
   "metadata": {},
   "outputs": [],
   "source": [
    "TL_history = json.load(open(\"content/smallBERT_2-128-2_history.json\", 'r'))\n",
    "GRU_history = json.load(open(\"content/GRU_history.json\", 'r'))"
   ]
  },
  {
   "cell_type": "code",
   "execution_count": 21,
   "metadata": {},
   "outputs": [
    {
     "data": {
      "application/vnd.plotly.v1+json": {
       "config": {
        "plotlyServerURL": "https://plot.ly"
       },
       "data": [
        {
         "marker": {
          "color": "darkgreen"
         },
         "mode": "lines",
         "name": "loss_GRU",
         "type": "scatter",
         "y": [
          0.693345308303833,
          0.6931533217430115,
          0.6933287978172302,
          0.5086345076560974,
          0.10586617887020111,
          0.01994161866605282,
          0.0024729580618441105,
          0.0010157956276088953,
          0.0006146557279862463,
          0.0003367002645973116,
          0.00041202071588486433,
          0.00023030478041619062,
          0.00028169716824777424,
          0.00021142973855603486,
          0.0001299284485867247,
          0.0001192728232126683,
          0.00013975088950246572,
          0.00009265408880310133,
          0.00009154942381428555,
          0.00006579112232429907
         ]
        },
        {
         "marker": {
          "color": "limegreen"
         },
         "mode": "lines",
         "name": "val_loss_GRU",
         "type": "scatter",
         "y": [
          0.7055264711380005,
          0.6422287821769714,
          0.6131665110588074,
          0.12301116436719894,
          0.12614110112190247,
          0.17138230800628662,
          0.17804506421089172,
          0.15542283654212952,
          0.15308630466461182,
          0.1487538367509842,
          0.15214519202709198,
          0.15296094119548798,
          0.15711869299411774,
          0.16157782077789307,
          0.16522426903247833,
          0.1671464741230011,
          0.1723647117614746,
          0.17502285540103912,
          0.17793391644954681,
          0.18069371581077576
         ]
        },
        {
         "marker": {
          "color": "darkred"
         },
         "mode": "lines",
         "name": "loss_smallBERT",
         "type": "scatter",
         "y": [
          0.2053673416376114,
          0.08455810695886612,
          0.046598874032497406,
          0.019087670370936394,
          0.04150807112455368,
          0.03147851675748825,
          0.023914923891425133,
          0.026716159656643867,
          0.017022419720888138,
          0.06124649569392204,
          0.04983091726899147,
          0.041642967611551285,
          0.05251401662826538,
          0.039331454783678055,
          0.03153615444898605,
          0.012930469587445259,
          0.004939123522490263,
          0.018488921225070953,
          0.019445933401584625,
          0.00923791341483593
         ]
        },
        {
         "marker": {
          "color": "tomato"
         },
         "mode": "lines",
         "name": "val_loss_smallBERT",
         "type": "scatter",
         "y": [
          0.12883388996124268,
          0.09654557704925537,
          0.095823273062706,
          0.11677159368991852,
          0.09191758930683136,
          0.08106362074613571,
          0.05844802409410477,
          0.15941406786441803,
          0.1239536851644516,
          0.17388203740119934,
          0.06655248254537582,
          0.06620170176029205,
          0.08541572839021683,
          0.12157358229160309,
          0.11175143718719482,
          0.11682789772748947,
          0.11921883374452591,
          0.225740447640419,
          0.11452235281467438,
          0.10592682659626007
         ]
        }
       ],
       "layout": {
        "template": {
         "data": {
          "bar": [
           {
            "error_x": {
             "color": "#2a3f5f"
            },
            "error_y": {
             "color": "#2a3f5f"
            },
            "marker": {
             "line": {
              "color": "#E5ECF6",
              "width": 0.5
             },
             "pattern": {
              "fillmode": "overlay",
              "size": 10,
              "solidity": 0.2
             }
            },
            "type": "bar"
           }
          ],
          "barpolar": [
           {
            "marker": {
             "line": {
              "color": "#E5ECF6",
              "width": 0.5
             },
             "pattern": {
              "fillmode": "overlay",
              "size": 10,
              "solidity": 0.2
             }
            },
            "type": "barpolar"
           }
          ],
          "carpet": [
           {
            "aaxis": {
             "endlinecolor": "#2a3f5f",
             "gridcolor": "white",
             "linecolor": "white",
             "minorgridcolor": "white",
             "startlinecolor": "#2a3f5f"
            },
            "baxis": {
             "endlinecolor": "#2a3f5f",
             "gridcolor": "white",
             "linecolor": "white",
             "minorgridcolor": "white",
             "startlinecolor": "#2a3f5f"
            },
            "type": "carpet"
           }
          ],
          "choropleth": [
           {
            "colorbar": {
             "outlinewidth": 0,
             "ticks": ""
            },
            "type": "choropleth"
           }
          ],
          "contour": [
           {
            "colorbar": {
             "outlinewidth": 0,
             "ticks": ""
            },
            "colorscale": [
             [
              0,
              "#0d0887"
             ],
             [
              0.1111111111111111,
              "#46039f"
             ],
             [
              0.2222222222222222,
              "#7201a8"
             ],
             [
              0.3333333333333333,
              "#9c179e"
             ],
             [
              0.4444444444444444,
              "#bd3786"
             ],
             [
              0.5555555555555556,
              "#d8576b"
             ],
             [
              0.6666666666666666,
              "#ed7953"
             ],
             [
              0.7777777777777778,
              "#fb9f3a"
             ],
             [
              0.8888888888888888,
              "#fdca26"
             ],
             [
              1,
              "#f0f921"
             ]
            ],
            "type": "contour"
           }
          ],
          "contourcarpet": [
           {
            "colorbar": {
             "outlinewidth": 0,
             "ticks": ""
            },
            "type": "contourcarpet"
           }
          ],
          "heatmap": [
           {
            "colorbar": {
             "outlinewidth": 0,
             "ticks": ""
            },
            "colorscale": [
             [
              0,
              "#0d0887"
             ],
             [
              0.1111111111111111,
              "#46039f"
             ],
             [
              0.2222222222222222,
              "#7201a8"
             ],
             [
              0.3333333333333333,
              "#9c179e"
             ],
             [
              0.4444444444444444,
              "#bd3786"
             ],
             [
              0.5555555555555556,
              "#d8576b"
             ],
             [
              0.6666666666666666,
              "#ed7953"
             ],
             [
              0.7777777777777778,
              "#fb9f3a"
             ],
             [
              0.8888888888888888,
              "#fdca26"
             ],
             [
              1,
              "#f0f921"
             ]
            ],
            "type": "heatmap"
           }
          ],
          "heatmapgl": [
           {
            "colorbar": {
             "outlinewidth": 0,
             "ticks": ""
            },
            "colorscale": [
             [
              0,
              "#0d0887"
             ],
             [
              0.1111111111111111,
              "#46039f"
             ],
             [
              0.2222222222222222,
              "#7201a8"
             ],
             [
              0.3333333333333333,
              "#9c179e"
             ],
             [
              0.4444444444444444,
              "#bd3786"
             ],
             [
              0.5555555555555556,
              "#d8576b"
             ],
             [
              0.6666666666666666,
              "#ed7953"
             ],
             [
              0.7777777777777778,
              "#fb9f3a"
             ],
             [
              0.8888888888888888,
              "#fdca26"
             ],
             [
              1,
              "#f0f921"
             ]
            ],
            "type": "heatmapgl"
           }
          ],
          "histogram": [
           {
            "marker": {
             "pattern": {
              "fillmode": "overlay",
              "size": 10,
              "solidity": 0.2
             }
            },
            "type": "histogram"
           }
          ],
          "histogram2d": [
           {
            "colorbar": {
             "outlinewidth": 0,
             "ticks": ""
            },
            "colorscale": [
             [
              0,
              "#0d0887"
             ],
             [
              0.1111111111111111,
              "#46039f"
             ],
             [
              0.2222222222222222,
              "#7201a8"
             ],
             [
              0.3333333333333333,
              "#9c179e"
             ],
             [
              0.4444444444444444,
              "#bd3786"
             ],
             [
              0.5555555555555556,
              "#d8576b"
             ],
             [
              0.6666666666666666,
              "#ed7953"
             ],
             [
              0.7777777777777778,
              "#fb9f3a"
             ],
             [
              0.8888888888888888,
              "#fdca26"
             ],
             [
              1,
              "#f0f921"
             ]
            ],
            "type": "histogram2d"
           }
          ],
          "histogram2dcontour": [
           {
            "colorbar": {
             "outlinewidth": 0,
             "ticks": ""
            },
            "colorscale": [
             [
              0,
              "#0d0887"
             ],
             [
              0.1111111111111111,
              "#46039f"
             ],
             [
              0.2222222222222222,
              "#7201a8"
             ],
             [
              0.3333333333333333,
              "#9c179e"
             ],
             [
              0.4444444444444444,
              "#bd3786"
             ],
             [
              0.5555555555555556,
              "#d8576b"
             ],
             [
              0.6666666666666666,
              "#ed7953"
             ],
             [
              0.7777777777777778,
              "#fb9f3a"
             ],
             [
              0.8888888888888888,
              "#fdca26"
             ],
             [
              1,
              "#f0f921"
             ]
            ],
            "type": "histogram2dcontour"
           }
          ],
          "mesh3d": [
           {
            "colorbar": {
             "outlinewidth": 0,
             "ticks": ""
            },
            "type": "mesh3d"
           }
          ],
          "parcoords": [
           {
            "line": {
             "colorbar": {
              "outlinewidth": 0,
              "ticks": ""
             }
            },
            "type": "parcoords"
           }
          ],
          "pie": [
           {
            "automargin": true,
            "type": "pie"
           }
          ],
          "scatter": [
           {
            "fillpattern": {
             "fillmode": "overlay",
             "size": 10,
             "solidity": 0.2
            },
            "type": "scatter"
           }
          ],
          "scatter3d": [
           {
            "line": {
             "colorbar": {
              "outlinewidth": 0,
              "ticks": ""
             }
            },
            "marker": {
             "colorbar": {
              "outlinewidth": 0,
              "ticks": ""
             }
            },
            "type": "scatter3d"
           }
          ],
          "scattercarpet": [
           {
            "marker": {
             "colorbar": {
              "outlinewidth": 0,
              "ticks": ""
             }
            },
            "type": "scattercarpet"
           }
          ],
          "scattergeo": [
           {
            "marker": {
             "colorbar": {
              "outlinewidth": 0,
              "ticks": ""
             }
            },
            "type": "scattergeo"
           }
          ],
          "scattergl": [
           {
            "marker": {
             "colorbar": {
              "outlinewidth": 0,
              "ticks": ""
             }
            },
            "type": "scattergl"
           }
          ],
          "scattermapbox": [
           {
            "marker": {
             "colorbar": {
              "outlinewidth": 0,
              "ticks": ""
             }
            },
            "type": "scattermapbox"
           }
          ],
          "scatterpolar": [
           {
            "marker": {
             "colorbar": {
              "outlinewidth": 0,
              "ticks": ""
             }
            },
            "type": "scatterpolar"
           }
          ],
          "scatterpolargl": [
           {
            "marker": {
             "colorbar": {
              "outlinewidth": 0,
              "ticks": ""
             }
            },
            "type": "scatterpolargl"
           }
          ],
          "scatterternary": [
           {
            "marker": {
             "colorbar": {
              "outlinewidth": 0,
              "ticks": ""
             }
            },
            "type": "scatterternary"
           }
          ],
          "surface": [
           {
            "colorbar": {
             "outlinewidth": 0,
             "ticks": ""
            },
            "colorscale": [
             [
              0,
              "#0d0887"
             ],
             [
              0.1111111111111111,
              "#46039f"
             ],
             [
              0.2222222222222222,
              "#7201a8"
             ],
             [
              0.3333333333333333,
              "#9c179e"
             ],
             [
              0.4444444444444444,
              "#bd3786"
             ],
             [
              0.5555555555555556,
              "#d8576b"
             ],
             [
              0.6666666666666666,
              "#ed7953"
             ],
             [
              0.7777777777777778,
              "#fb9f3a"
             ],
             [
              0.8888888888888888,
              "#fdca26"
             ],
             [
              1,
              "#f0f921"
             ]
            ],
            "type": "surface"
           }
          ],
          "table": [
           {
            "cells": {
             "fill": {
              "color": "#EBF0F8"
             },
             "line": {
              "color": "white"
             }
            },
            "header": {
             "fill": {
              "color": "#C8D4E3"
             },
             "line": {
              "color": "white"
             }
            },
            "type": "table"
           }
          ]
         },
         "layout": {
          "annotationdefaults": {
           "arrowcolor": "#2a3f5f",
           "arrowhead": 0,
           "arrowwidth": 1
          },
          "autotypenumbers": "strict",
          "coloraxis": {
           "colorbar": {
            "outlinewidth": 0,
            "ticks": ""
           }
          },
          "colorscale": {
           "diverging": [
            [
             0,
             "#8e0152"
            ],
            [
             0.1,
             "#c51b7d"
            ],
            [
             0.2,
             "#de77ae"
            ],
            [
             0.3,
             "#f1b6da"
            ],
            [
             0.4,
             "#fde0ef"
            ],
            [
             0.5,
             "#f7f7f7"
            ],
            [
             0.6,
             "#e6f5d0"
            ],
            [
             0.7,
             "#b8e186"
            ],
            [
             0.8,
             "#7fbc41"
            ],
            [
             0.9,
             "#4d9221"
            ],
            [
             1,
             "#276419"
            ]
           ],
           "sequential": [
            [
             0,
             "#0d0887"
            ],
            [
             0.1111111111111111,
             "#46039f"
            ],
            [
             0.2222222222222222,
             "#7201a8"
            ],
            [
             0.3333333333333333,
             "#9c179e"
            ],
            [
             0.4444444444444444,
             "#bd3786"
            ],
            [
             0.5555555555555556,
             "#d8576b"
            ],
            [
             0.6666666666666666,
             "#ed7953"
            ],
            [
             0.7777777777777778,
             "#fb9f3a"
            ],
            [
             0.8888888888888888,
             "#fdca26"
            ],
            [
             1,
             "#f0f921"
            ]
           ],
           "sequentialminus": [
            [
             0,
             "#0d0887"
            ],
            [
             0.1111111111111111,
             "#46039f"
            ],
            [
             0.2222222222222222,
             "#7201a8"
            ],
            [
             0.3333333333333333,
             "#9c179e"
            ],
            [
             0.4444444444444444,
             "#bd3786"
            ],
            [
             0.5555555555555556,
             "#d8576b"
            ],
            [
             0.6666666666666666,
             "#ed7953"
            ],
            [
             0.7777777777777778,
             "#fb9f3a"
            ],
            [
             0.8888888888888888,
             "#fdca26"
            ],
            [
             1,
             "#f0f921"
            ]
           ]
          },
          "colorway": [
           "#636efa",
           "#EF553B",
           "#00cc96",
           "#ab63fa",
           "#FFA15A",
           "#19d3f3",
           "#FF6692",
           "#B6E880",
           "#FF97FF",
           "#FECB52"
          ],
          "font": {
           "color": "#2a3f5f"
          },
          "geo": {
           "bgcolor": "white",
           "lakecolor": "white",
           "landcolor": "#E5ECF6",
           "showlakes": true,
           "showland": true,
           "subunitcolor": "white"
          },
          "hoverlabel": {
           "align": "left"
          },
          "hovermode": "closest",
          "mapbox": {
           "style": "light"
          },
          "paper_bgcolor": "white",
          "plot_bgcolor": "#E5ECF6",
          "polar": {
           "angularaxis": {
            "gridcolor": "white",
            "linecolor": "white",
            "ticks": ""
           },
           "bgcolor": "#E5ECF6",
           "radialaxis": {
            "gridcolor": "white",
            "linecolor": "white",
            "ticks": ""
           }
          },
          "scene": {
           "xaxis": {
            "backgroundcolor": "#E5ECF6",
            "gridcolor": "white",
            "gridwidth": 2,
            "linecolor": "white",
            "showbackground": true,
            "ticks": "",
            "zerolinecolor": "white"
           },
           "yaxis": {
            "backgroundcolor": "#E5ECF6",
            "gridcolor": "white",
            "gridwidth": 2,
            "linecolor": "white",
            "showbackground": true,
            "ticks": "",
            "zerolinecolor": "white"
           },
           "zaxis": {
            "backgroundcolor": "#E5ECF6",
            "gridcolor": "white",
            "gridwidth": 2,
            "linecolor": "white",
            "showbackground": true,
            "ticks": "",
            "zerolinecolor": "white"
           }
          },
          "shapedefaults": {
           "line": {
            "color": "#2a3f5f"
           }
          },
          "ternary": {
           "aaxis": {
            "gridcolor": "white",
            "linecolor": "white",
            "ticks": ""
           },
           "baxis": {
            "gridcolor": "white",
            "linecolor": "white",
            "ticks": ""
           },
           "bgcolor": "#E5ECF6",
           "caxis": {
            "gridcolor": "white",
            "linecolor": "white",
            "ticks": ""
           }
          },
          "title": {
           "x": 0.05
          },
          "xaxis": {
           "automargin": true,
           "gridcolor": "white",
           "linecolor": "white",
           "ticks": "",
           "title": {
            "standoff": 15
           },
           "zerolinecolor": "white",
           "zerolinewidth": 2
          },
          "yaxis": {
           "automargin": true,
           "gridcolor": "white",
           "linecolor": "white",
           "ticks": "",
           "title": {
            "standoff": 15
           },
           "zerolinecolor": "white",
           "zerolinewidth": 2
          }
         }
        },
        "title": {
         "text": "Loss for GRU and small BERT",
         "x": 0.5
        },
        "xaxis": {
         "zeroline": false
        },
        "yaxis": {
         "zeroline": false
        }
       }
      }
     },
     "metadata": {},
     "output_type": "display_data"
    }
   ],
   "source": [
    "fig = go.Figure()\n",
    "fig.add_trace(go.Scatter(y=GRU_history[\"loss\"],\n",
    "                    mode='lines',\n",
    "                    name='loss_GRU',\n",
    "                    marker_color = 'darkgreen'))\n",
    "fig.add_trace(go.Scatter(y=GRU_history[\"val_loss\"],\n",
    "                    mode='lines',\n",
    "                    name='val_loss_GRU',\n",
    "                    marker_color = 'limegreen'))\n",
    "fig.add_trace(go.Scatter(y=TL_history[\"loss\"],\n",
    "                    mode='lines',\n",
    "                    name='loss_smallBERT',\n",
    "                    marker_color = 'darkred'))\n",
    "fig.add_trace(go.Scatter(y=TL_history[\"val_loss\"],\n",
    "                    mode='lines',\n",
    "                    name='val_loss_smallBERT',\n",
    "                    marker_color = 'tomato'))\n",
    "fig.update_layout(title='Loss for GRU and small BERT', title_x = 0.5,\n",
    "                  yaxis_zeroline=False, xaxis_zeroline=False)\n",
    "fig.show()"
   ]
  },
  {
   "cell_type": "code",
   "execution_count": 22,
   "metadata": {},
   "outputs": [
    {
     "data": {
      "application/vnd.plotly.v1+json": {
       "config": {
        "plotlyServerURL": "https://plot.ly"
       },
       "data": [
        {
         "marker": {
          "color": "darkgreen"
         },
         "mode": "lines",
         "name": "binary_accuracy_GRU",
         "type": "scatter",
         "y": [
          0.1460905373096466,
          0.34953704476356506,
          0.6021090745925903,
          0.8317901492118835,
          0.9722222089767456,
          0.9953703880310059,
          0.9997428059577942,
          1,
          1,
          1,
          1,
          1,
          1,
          1,
          1,
          1,
          1,
          1,
          1,
          1
         ]
        },
        {
         "marker": {
          "color": "limegreen"
         },
         "mode": "lines",
         "name": "val_binary_accuracy_GRU",
         "type": "scatter",
         "y": [
          0.13437312841415405,
          0.865626871585846,
          0.865626871585846,
          0.9634073376655579,
          0.9772045612335205,
          0.9784043431282043,
          0.9790042042732239,
          0.9784043431282043,
          0.9790042042732239,
          0.9784043431282043,
          0.9790042042732239,
          0.9790042042732239,
          0.9790042042732239,
          0.9790042042732239,
          0.9790042042732239,
          0.9790042042732239,
          0.9790042042732239,
          0.9790042042732239,
          0.9790042042732239,
          0.9790042042732239
         ]
        },
        {
         "marker": {
          "color": "darkred"
         },
         "mode": "lines",
         "name": "binary_accuracy_smallBERT",
         "type": "scatter",
         "y": [
          0.9408436417579651,
          0.9853395223617554,
          0.9912551641464233,
          0.9969135522842407,
          0.9907407164573669,
          0.9925411343574524,
          0.9933127760887146,
          0.9981995820999146,
          0.9956275820732117,
          0.9920267462730408,
          0.9879115223884583,
          0.9930555820465088,
          0.9884259104728699,
          0.9912551641464233,
          0.994084358215332,
          0.9976851940155029,
          0.998971164226532,
          0.9956275820732117,
          0.9958847761154175,
          0.9974279999732971
         ]
        },
        {
         "marker": {
          "color": "tomato"
         },
         "mode": "lines",
         "name": "val_binary_accuracy_smallBERT",
         "type": "scatter",
         "y": [
          0.9754049181938171,
          0.9826034903526306,
          0.9850029945373535,
          0.985602855682373,
          0.9826034903526306,
          0.9850029945373535,
          0.9904019236564636,
          0.9670066237449646,
          0.9850029945373535,
          0.9784043431282043,
          0.984403133392334,
          0.9838032126426697,
          0.9862027764320374,
          0.984403133392334,
          0.9832033514976501,
          0.984403133392334,
          0.985602855682373,
          0.9826034903526306,
          0.9820035696029663,
          0.9838032126426697
         ]
        }
       ],
       "layout": {
        "template": {
         "data": {
          "bar": [
           {
            "error_x": {
             "color": "#2a3f5f"
            },
            "error_y": {
             "color": "#2a3f5f"
            },
            "marker": {
             "line": {
              "color": "#E5ECF6",
              "width": 0.5
             },
             "pattern": {
              "fillmode": "overlay",
              "size": 10,
              "solidity": 0.2
             }
            },
            "type": "bar"
           }
          ],
          "barpolar": [
           {
            "marker": {
             "line": {
              "color": "#E5ECF6",
              "width": 0.5
             },
             "pattern": {
              "fillmode": "overlay",
              "size": 10,
              "solidity": 0.2
             }
            },
            "type": "barpolar"
           }
          ],
          "carpet": [
           {
            "aaxis": {
             "endlinecolor": "#2a3f5f",
             "gridcolor": "white",
             "linecolor": "white",
             "minorgridcolor": "white",
             "startlinecolor": "#2a3f5f"
            },
            "baxis": {
             "endlinecolor": "#2a3f5f",
             "gridcolor": "white",
             "linecolor": "white",
             "minorgridcolor": "white",
             "startlinecolor": "#2a3f5f"
            },
            "type": "carpet"
           }
          ],
          "choropleth": [
           {
            "colorbar": {
             "outlinewidth": 0,
             "ticks": ""
            },
            "type": "choropleth"
           }
          ],
          "contour": [
           {
            "colorbar": {
             "outlinewidth": 0,
             "ticks": ""
            },
            "colorscale": [
             [
              0,
              "#0d0887"
             ],
             [
              0.1111111111111111,
              "#46039f"
             ],
             [
              0.2222222222222222,
              "#7201a8"
             ],
             [
              0.3333333333333333,
              "#9c179e"
             ],
             [
              0.4444444444444444,
              "#bd3786"
             ],
             [
              0.5555555555555556,
              "#d8576b"
             ],
             [
              0.6666666666666666,
              "#ed7953"
             ],
             [
              0.7777777777777778,
              "#fb9f3a"
             ],
             [
              0.8888888888888888,
              "#fdca26"
             ],
             [
              1,
              "#f0f921"
             ]
            ],
            "type": "contour"
           }
          ],
          "contourcarpet": [
           {
            "colorbar": {
             "outlinewidth": 0,
             "ticks": ""
            },
            "type": "contourcarpet"
           }
          ],
          "heatmap": [
           {
            "colorbar": {
             "outlinewidth": 0,
             "ticks": ""
            },
            "colorscale": [
             [
              0,
              "#0d0887"
             ],
             [
              0.1111111111111111,
              "#46039f"
             ],
             [
              0.2222222222222222,
              "#7201a8"
             ],
             [
              0.3333333333333333,
              "#9c179e"
             ],
             [
              0.4444444444444444,
              "#bd3786"
             ],
             [
              0.5555555555555556,
              "#d8576b"
             ],
             [
              0.6666666666666666,
              "#ed7953"
             ],
             [
              0.7777777777777778,
              "#fb9f3a"
             ],
             [
              0.8888888888888888,
              "#fdca26"
             ],
             [
              1,
              "#f0f921"
             ]
            ],
            "type": "heatmap"
           }
          ],
          "heatmapgl": [
           {
            "colorbar": {
             "outlinewidth": 0,
             "ticks": ""
            },
            "colorscale": [
             [
              0,
              "#0d0887"
             ],
             [
              0.1111111111111111,
              "#46039f"
             ],
             [
              0.2222222222222222,
              "#7201a8"
             ],
             [
              0.3333333333333333,
              "#9c179e"
             ],
             [
              0.4444444444444444,
              "#bd3786"
             ],
             [
              0.5555555555555556,
              "#d8576b"
             ],
             [
              0.6666666666666666,
              "#ed7953"
             ],
             [
              0.7777777777777778,
              "#fb9f3a"
             ],
             [
              0.8888888888888888,
              "#fdca26"
             ],
             [
              1,
              "#f0f921"
             ]
            ],
            "type": "heatmapgl"
           }
          ],
          "histogram": [
           {
            "marker": {
             "pattern": {
              "fillmode": "overlay",
              "size": 10,
              "solidity": 0.2
             }
            },
            "type": "histogram"
           }
          ],
          "histogram2d": [
           {
            "colorbar": {
             "outlinewidth": 0,
             "ticks": ""
            },
            "colorscale": [
             [
              0,
              "#0d0887"
             ],
             [
              0.1111111111111111,
              "#46039f"
             ],
             [
              0.2222222222222222,
              "#7201a8"
             ],
             [
              0.3333333333333333,
              "#9c179e"
             ],
             [
              0.4444444444444444,
              "#bd3786"
             ],
             [
              0.5555555555555556,
              "#d8576b"
             ],
             [
              0.6666666666666666,
              "#ed7953"
             ],
             [
              0.7777777777777778,
              "#fb9f3a"
             ],
             [
              0.8888888888888888,
              "#fdca26"
             ],
             [
              1,
              "#f0f921"
             ]
            ],
            "type": "histogram2d"
           }
          ],
          "histogram2dcontour": [
           {
            "colorbar": {
             "outlinewidth": 0,
             "ticks": ""
            },
            "colorscale": [
             [
              0,
              "#0d0887"
             ],
             [
              0.1111111111111111,
              "#46039f"
             ],
             [
              0.2222222222222222,
              "#7201a8"
             ],
             [
              0.3333333333333333,
              "#9c179e"
             ],
             [
              0.4444444444444444,
              "#bd3786"
             ],
             [
              0.5555555555555556,
              "#d8576b"
             ],
             [
              0.6666666666666666,
              "#ed7953"
             ],
             [
              0.7777777777777778,
              "#fb9f3a"
             ],
             [
              0.8888888888888888,
              "#fdca26"
             ],
             [
              1,
              "#f0f921"
             ]
            ],
            "type": "histogram2dcontour"
           }
          ],
          "mesh3d": [
           {
            "colorbar": {
             "outlinewidth": 0,
             "ticks": ""
            },
            "type": "mesh3d"
           }
          ],
          "parcoords": [
           {
            "line": {
             "colorbar": {
              "outlinewidth": 0,
              "ticks": ""
             }
            },
            "type": "parcoords"
           }
          ],
          "pie": [
           {
            "automargin": true,
            "type": "pie"
           }
          ],
          "scatter": [
           {
            "fillpattern": {
             "fillmode": "overlay",
             "size": 10,
             "solidity": 0.2
            },
            "type": "scatter"
           }
          ],
          "scatter3d": [
           {
            "line": {
             "colorbar": {
              "outlinewidth": 0,
              "ticks": ""
             }
            },
            "marker": {
             "colorbar": {
              "outlinewidth": 0,
              "ticks": ""
             }
            },
            "type": "scatter3d"
           }
          ],
          "scattercarpet": [
           {
            "marker": {
             "colorbar": {
              "outlinewidth": 0,
              "ticks": ""
             }
            },
            "type": "scattercarpet"
           }
          ],
          "scattergeo": [
           {
            "marker": {
             "colorbar": {
              "outlinewidth": 0,
              "ticks": ""
             }
            },
            "type": "scattergeo"
           }
          ],
          "scattergl": [
           {
            "marker": {
             "colorbar": {
              "outlinewidth": 0,
              "ticks": ""
             }
            },
            "type": "scattergl"
           }
          ],
          "scattermapbox": [
           {
            "marker": {
             "colorbar": {
              "outlinewidth": 0,
              "ticks": ""
             }
            },
            "type": "scattermapbox"
           }
          ],
          "scatterpolar": [
           {
            "marker": {
             "colorbar": {
              "outlinewidth": 0,
              "ticks": ""
             }
            },
            "type": "scatterpolar"
           }
          ],
          "scatterpolargl": [
           {
            "marker": {
             "colorbar": {
              "outlinewidth": 0,
              "ticks": ""
             }
            },
            "type": "scatterpolargl"
           }
          ],
          "scatterternary": [
           {
            "marker": {
             "colorbar": {
              "outlinewidth": 0,
              "ticks": ""
             }
            },
            "type": "scatterternary"
           }
          ],
          "surface": [
           {
            "colorbar": {
             "outlinewidth": 0,
             "ticks": ""
            },
            "colorscale": [
             [
              0,
              "#0d0887"
             ],
             [
              0.1111111111111111,
              "#46039f"
             ],
             [
              0.2222222222222222,
              "#7201a8"
             ],
             [
              0.3333333333333333,
              "#9c179e"
             ],
             [
              0.4444444444444444,
              "#bd3786"
             ],
             [
              0.5555555555555556,
              "#d8576b"
             ],
             [
              0.6666666666666666,
              "#ed7953"
             ],
             [
              0.7777777777777778,
              "#fb9f3a"
             ],
             [
              0.8888888888888888,
              "#fdca26"
             ],
             [
              1,
              "#f0f921"
             ]
            ],
            "type": "surface"
           }
          ],
          "table": [
           {
            "cells": {
             "fill": {
              "color": "#EBF0F8"
             },
             "line": {
              "color": "white"
             }
            },
            "header": {
             "fill": {
              "color": "#C8D4E3"
             },
             "line": {
              "color": "white"
             }
            },
            "type": "table"
           }
          ]
         },
         "layout": {
          "annotationdefaults": {
           "arrowcolor": "#2a3f5f",
           "arrowhead": 0,
           "arrowwidth": 1
          },
          "autotypenumbers": "strict",
          "coloraxis": {
           "colorbar": {
            "outlinewidth": 0,
            "ticks": ""
           }
          },
          "colorscale": {
           "diverging": [
            [
             0,
             "#8e0152"
            ],
            [
             0.1,
             "#c51b7d"
            ],
            [
             0.2,
             "#de77ae"
            ],
            [
             0.3,
             "#f1b6da"
            ],
            [
             0.4,
             "#fde0ef"
            ],
            [
             0.5,
             "#f7f7f7"
            ],
            [
             0.6,
             "#e6f5d0"
            ],
            [
             0.7,
             "#b8e186"
            ],
            [
             0.8,
             "#7fbc41"
            ],
            [
             0.9,
             "#4d9221"
            ],
            [
             1,
             "#276419"
            ]
           ],
           "sequential": [
            [
             0,
             "#0d0887"
            ],
            [
             0.1111111111111111,
             "#46039f"
            ],
            [
             0.2222222222222222,
             "#7201a8"
            ],
            [
             0.3333333333333333,
             "#9c179e"
            ],
            [
             0.4444444444444444,
             "#bd3786"
            ],
            [
             0.5555555555555556,
             "#d8576b"
            ],
            [
             0.6666666666666666,
             "#ed7953"
            ],
            [
             0.7777777777777778,
             "#fb9f3a"
            ],
            [
             0.8888888888888888,
             "#fdca26"
            ],
            [
             1,
             "#f0f921"
            ]
           ],
           "sequentialminus": [
            [
             0,
             "#0d0887"
            ],
            [
             0.1111111111111111,
             "#46039f"
            ],
            [
             0.2222222222222222,
             "#7201a8"
            ],
            [
             0.3333333333333333,
             "#9c179e"
            ],
            [
             0.4444444444444444,
             "#bd3786"
            ],
            [
             0.5555555555555556,
             "#d8576b"
            ],
            [
             0.6666666666666666,
             "#ed7953"
            ],
            [
             0.7777777777777778,
             "#fb9f3a"
            ],
            [
             0.8888888888888888,
             "#fdca26"
            ],
            [
             1,
             "#f0f921"
            ]
           ]
          },
          "colorway": [
           "#636efa",
           "#EF553B",
           "#00cc96",
           "#ab63fa",
           "#FFA15A",
           "#19d3f3",
           "#FF6692",
           "#B6E880",
           "#FF97FF",
           "#FECB52"
          ],
          "font": {
           "color": "#2a3f5f"
          },
          "geo": {
           "bgcolor": "white",
           "lakecolor": "white",
           "landcolor": "#E5ECF6",
           "showlakes": true,
           "showland": true,
           "subunitcolor": "white"
          },
          "hoverlabel": {
           "align": "left"
          },
          "hovermode": "closest",
          "mapbox": {
           "style": "light"
          },
          "paper_bgcolor": "white",
          "plot_bgcolor": "#E5ECF6",
          "polar": {
           "angularaxis": {
            "gridcolor": "white",
            "linecolor": "white",
            "ticks": ""
           },
           "bgcolor": "#E5ECF6",
           "radialaxis": {
            "gridcolor": "white",
            "linecolor": "white",
            "ticks": ""
           }
          },
          "scene": {
           "xaxis": {
            "backgroundcolor": "#E5ECF6",
            "gridcolor": "white",
            "gridwidth": 2,
            "linecolor": "white",
            "showbackground": true,
            "ticks": "",
            "zerolinecolor": "white"
           },
           "yaxis": {
            "backgroundcolor": "#E5ECF6",
            "gridcolor": "white",
            "gridwidth": 2,
            "linecolor": "white",
            "showbackground": true,
            "ticks": "",
            "zerolinecolor": "white"
           },
           "zaxis": {
            "backgroundcolor": "#E5ECF6",
            "gridcolor": "white",
            "gridwidth": 2,
            "linecolor": "white",
            "showbackground": true,
            "ticks": "",
            "zerolinecolor": "white"
           }
          },
          "shapedefaults": {
           "line": {
            "color": "#2a3f5f"
           }
          },
          "ternary": {
           "aaxis": {
            "gridcolor": "white",
            "linecolor": "white",
            "ticks": ""
           },
           "baxis": {
            "gridcolor": "white",
            "linecolor": "white",
            "ticks": ""
           },
           "bgcolor": "#E5ECF6",
           "caxis": {
            "gridcolor": "white",
            "linecolor": "white",
            "ticks": ""
           }
          },
          "title": {
           "x": 0.05
          },
          "xaxis": {
           "automargin": true,
           "gridcolor": "white",
           "linecolor": "white",
           "ticks": "",
           "title": {
            "standoff": 15
           },
           "zerolinecolor": "white",
           "zerolinewidth": 2
          },
          "yaxis": {
           "automargin": true,
           "gridcolor": "white",
           "linecolor": "white",
           "ticks": "",
           "title": {
            "standoff": 15
           },
           "zerolinecolor": "white",
           "zerolinewidth": 2
          }
         }
        },
        "title": {
         "text": "Accuracy for GRU and small BERT",
         "x": 0.5
        },
        "xaxis": {
         "zeroline": false
        },
        "yaxis": {
         "zeroline": false
        }
       }
      }
     },
     "metadata": {},
     "output_type": "display_data"
    }
   ],
   "source": [
    "fig = go.Figure()\n",
    "fig.add_trace(go.Scatter(y=GRU_history[\"binary_accuracy\"],\n",
    "                    mode='lines',\n",
    "                    name='binary_accuracy_GRU',\n",
    "                    marker_color = 'darkgreen'))\n",
    "fig.add_trace(go.Scatter(y=GRU_history[\"val_binary_accuracy\"],\n",
    "                    mode='lines',\n",
    "                    name='val_binary_accuracy_GRU',\n",
    "                    marker_color = 'limegreen'))\n",
    "fig.add_trace(go.Scatter(y=TL_history[\"binary_accuracy\"],\n",
    "                    mode='lines',\n",
    "                    name='binary_accuracy_smallBERT',\n",
    "                    marker_color = 'darkred'))\n",
    "fig.add_trace(go.Scatter(y=TL_history[\"val_binary_accuracy\"],\n",
    "                    mode='lines',\n",
    "                    name='val_binary_accuracy_smallBERT',\n",
    "                    marker_color = 'tomato'))\n",
    "fig.update_layout(title='Accuracy for GRU and small BERT', title_x = 0.5,\n",
    "                  yaxis_zeroline=False, xaxis_zeroline=False)\n",
    "fig.show()"
   ]
  },
  {
   "attachments": {},
   "cell_type": "markdown",
   "metadata": {},
   "source": [
    "We can see that the training process is much faster with small BERT than GRU. It is logical because the small BERT model is already pre-trained.  \n",
    "The small BERT model is also more stable when the training is repeated."
   ]
  },
  {
   "cell_type": "code",
   "execution_count": 23,
   "metadata": {},
   "outputs": [
    {
     "data": {
      "text/plain": [
       "<tensorflow.python.checkpoint.checkpoint.CheckpointLoadStatus at 0x7f772fb93a90>"
      ]
     },
     "execution_count": 23,
     "metadata": {},
     "output_type": "execute_result"
    }
   ],
   "source": [
    "# Loading small BERT model at checkpoint xxx epochs\n",
    "model_TL.load_weights(\"trainingTL/cp-0010.ckpt\")"
   ]
  },
  {
   "cell_type": "code",
   "execution_count": 24,
   "metadata": {},
   "outputs": [
    {
     "name": "stdout",
     "output_type": "stream",
     "text": [
      "122/122 [==============================] - 7s 59ms/step\n",
      "53/53 [==============================] - 3s 60ms/step\n"
     ]
    }
   ],
   "source": [
    "pred_train = model_TL.predict(X_train)\n",
    "pred_test = model_TL.predict(X_test)"
   ]
  },
  {
   "cell_type": "code",
   "execution_count": 25,
   "metadata": {},
   "outputs": [
    {
     "data": {
      "text/plain": [
       "array([[2.2574069e-04],\n",
       "       [2.2561007e-04],\n",
       "       [2.2842456e-04],\n",
       "       ...,\n",
       "       [2.3296742e-04],\n",
       "       [2.2671004e-04],\n",
       "       [1.0000000e+00]], dtype=float32)"
      ]
     },
     "execution_count": 25,
     "metadata": {},
     "output_type": "execute_result"
    }
   ],
   "source": [
    "pred_test"
   ]
  },
  {
   "cell_type": "code",
   "execution_count": 26,
   "metadata": {},
   "outputs": [],
   "source": [
    "# convert the output of sigmoid function into 0 or 1\n",
    "y_train_pred = tf.cast(tf.greater(pred_train, 0.5), tf.int32)\n",
    "y_test_pred = tf.cast(tf.greater(pred_test, 0.5), tf.int32)"
   ]
  },
  {
   "cell_type": "code",
   "execution_count": 27,
   "metadata": {},
   "outputs": [
    {
     "data": {
      "text/plain": [
       "<tf.Tensor: shape=(1667, 1), dtype=int32, numpy=\n",
       "array([[0],\n",
       "       [0],\n",
       "       [0],\n",
       "       ...,\n",
       "       [0],\n",
       "       [0],\n",
       "       [1]], dtype=int32)>"
      ]
     },
     "execution_count": 27,
     "metadata": {},
     "output_type": "execute_result"
    }
   ],
   "source": [
    "y_test_pred"
   ]
  },
  {
   "cell_type": "code",
   "execution_count": 28,
   "metadata": {},
   "outputs": [
    {
     "data": {
      "image/png": "[encoded data removed]",
      "text/plain": [
       "<Figure size 640x480 with 2 Axes>"
      ]
     },
     "metadata": {},
     "output_type": "display_data"
    },
    {
     "data": {
      "image/png": "[encoded data removed]",
      "text/plain": [
       "<Figure size 640x480 with 2 Axes>"
      ]
     },
     "metadata": {},
     "output_type": "display_data"
    }
   ],
   "source": [
    "# Visualize confusion matrices for the small BERT model\n",
    "_ , ax = plt.subplots() # Get subplot from matplotlib\n",
    "ax.set(title=\"Confusion Matrix on Train set\")\n",
    "ConfusionMatrixDisplay.from_predictions(y_train, y_train_pred, ax=ax)\n",
    "\n",
    "_ , ax = plt.subplots() # Get subplot from matplotlib\n",
    "ax.set(title=\"Confusion Matrix on Test set\") \n",
    "ConfusionMatrixDisplay.from_predictions(y_test, y_test_pred, ax=ax)\n",
    "plt.show()"
   ]
  },
  {
   "cell_type": "code",
   "execution_count": 29,
   "metadata": {},
   "outputs": [
    {
     "name": "stdout",
     "output_type": "stream",
     "text": [
      "              precision    recall  f1-score   support\n",
      "\n",
      "           0       0.98      1.00      0.99      1443\n",
      "           1       0.99      0.85      0.91       224\n",
      "\n",
      "    accuracy                           0.98      1667\n",
      "   macro avg       0.98      0.92      0.95      1667\n",
      "weighted avg       0.98      0.98      0.98      1667\n",
      "\n"
     ]
    }
   ],
   "source": [
    "print(classification_report(y_test, y_test_pred))"
   ]
  },
  {
   "attachments": {},
   "cell_type": "markdown",
   "metadata": {},
   "source": [
    "The GRU and small BERT models offer similar performances. The GRU is smaller, which is sufficient for this small dataset. On the other hand, the small BERT is probably more stable.  If we had a larger dataset, we will probably choose to use the small BERT model."
   ]
  },
  {
   "cell_type": "code",
   "execution_count": null,
   "metadata": {},
   "outputs": [],
   "source": []
  }
 ],
 "metadata": {
  "kernelspec": {
   "display_name": "Python 3",
   "language": "python",
   "name": "python3"
  },
  "language_info": {
   "codemirror_mode": {
    "name": "ipython",
    "version": 3
   },
   "file_extension": ".py",
   "mimetype": "text/x-python",
   "name": "python",
   "nbconvert_exporter": "python",
   "pygments_lexer": "ipython3",
   "version": "3.10.6"
  },
  "orig_nbformat": 4,
  "vscode": {
   "interpreter": {
    "hash": "916dbcbb3f70747c44a77c7bcd40155683ae19c65e1c03b4aa3499c5328201f1"
   }
  }
 },
 "nbformat": 4,
 "nbformat_minor": 2
}
